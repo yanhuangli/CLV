{
 "cells": [
  {
   "cell_type": "code",
   "execution_count": 1,
   "id": "6ad90ee0",
   "metadata": {
    "ExecuteTime": {
     "end_time": "2022-01-01T22:31:01.848213Z",
     "start_time": "2022-01-01T22:31:01.402097Z"
    }
   },
   "outputs": [],
   "source": [
    "import pandas as pd\n",
    "import numpy as np\n",
    "import matplotlib.pyplot as plt"
   ]
  },
  {
   "cell_type": "code",
   "execution_count": 13,
   "id": "a1ee6c35",
   "metadata": {
    "ExecuteTime": {
     "end_time": "2022-01-02T00:17:46.691589Z",
     "start_time": "2022-01-02T00:17:46.391246Z"
    }
   },
   "outputs": [],
   "source": [
    "path = 'D:/CS课件/data/orders.txt'\n",
    "df1 = pd.read_csv(path,sep='\\t',encoding='ISO-8859-1',parse_dates=['orderdate'])\n",
    "path1 = 'D:/CS课件/data/customer.txt'\n",
    "df2 = pd.read_csv(path1,sep='\\t',encoding='ISO-8859-1')"
   ]
  },
  {
   "cell_type": "code",
   "execution_count": 17,
   "id": "cfcbb851",
   "metadata": {
    "ExecuteTime": {
     "end_time": "2022-01-02T00:18:29.405578Z",
     "start_time": "2022-01-02T00:18:29.394607Z"
    }
   },
   "outputs": [
    {
     "data": {
      "text/html": [
       "<div>\n",
       "<style scoped>\n",
       "    .dataframe tbody tr th:only-of-type {\n",
       "        vertical-align: middle;\n",
       "    }\n",
       "\n",
       "    .dataframe tbody tr th {\n",
       "        vertical-align: top;\n",
       "    }\n",
       "\n",
       "    .dataframe thead th {\n",
       "        text-align: right;\n",
       "    }\n",
       "</style>\n",
       "<table border=\"1\" class=\"dataframe\">\n",
       "  <thead>\n",
       "    <tr style=\"text-align: right;\">\n",
       "      <th></th>\n",
       "      <th>customerid</th>\n",
       "      <th>householdid</th>\n",
       "      <th>gender</th>\n",
       "      <th>firstname</th>\n",
       "    </tr>\n",
       "  </thead>\n",
       "  <tbody>\n",
       "    <tr>\n",
       "      <th>0</th>\n",
       "      <td>174596</td>\n",
       "      <td>53949999</td>\n",
       "      <td>M</td>\n",
       "      <td>DANIEL</td>\n",
       "    </tr>\n",
       "    <tr>\n",
       "      <th>1</th>\n",
       "      <td>68239</td>\n",
       "      <td>49927024</td>\n",
       "      <td>M</td>\n",
       "      <td>JIM</td>\n",
       "    </tr>\n",
       "    <tr>\n",
       "      <th>2</th>\n",
       "      <td>10203</td>\n",
       "      <td>20914414</td>\n",
       "      <td>F</td>\n",
       "      <td>DONNA</td>\n",
       "    </tr>\n",
       "    <tr>\n",
       "      <th>3</th>\n",
       "      <td>174288</td>\n",
       "      <td>53957047</td>\n",
       "      <td>F</td>\n",
       "      <td>DIONE</td>\n",
       "    </tr>\n",
       "    <tr>\n",
       "      <th>4</th>\n",
       "      <td>68099</td>\n",
       "      <td>49927024</td>\n",
       "      <td>M</td>\n",
       "      <td>JIM</td>\n",
       "    </tr>\n",
       "  </tbody>\n",
       "</table>\n",
       "</div>"
      ],
      "text/plain": [
       "   customerid  householdid gender firstname\n",
       "0      174596     53949999      M    DANIEL\n",
       "1       68239     49927024      M       JIM\n",
       "2       10203     20914414      F     DONNA\n",
       "3      174288     53957047      F     DIONE\n",
       "4       68099     49927024      M       JIM"
      ]
     },
     "execution_count": 17,
     "metadata": {},
     "output_type": "execute_result"
    }
   ],
   "source": [
    "df2.head()"
   ]
  },
  {
   "cell_type": "code",
   "execution_count": 18,
   "id": "44f09624",
   "metadata": {
    "ExecuteTime": {
     "end_time": "2022-01-02T00:18:42.447434Z",
     "start_time": "2022-01-02T00:18:42.433462Z"
    }
   },
   "outputs": [
    {
     "data": {
      "text/html": [
       "<div>\n",
       "<style scoped>\n",
       "    .dataframe tbody tr th:only-of-type {\n",
       "        vertical-align: middle;\n",
       "    }\n",
       "\n",
       "    .dataframe tbody tr th {\n",
       "        vertical-align: top;\n",
       "    }\n",
       "\n",
       "    .dataframe thead th {\n",
       "        text-align: right;\n",
       "    }\n",
       "</style>\n",
       "<table border=\"1\" class=\"dataframe\">\n",
       "  <thead>\n",
       "    <tr style=\"text-align: right;\">\n",
       "      <th></th>\n",
       "      <th>orderid</th>\n",
       "      <th>customerid</th>\n",
       "      <th>campaignid</th>\n",
       "      <th>orderdate</th>\n",
       "      <th>city</th>\n",
       "      <th>state</th>\n",
       "      <th>zipcode</th>\n",
       "      <th>paymenttype</th>\n",
       "      <th>totalprice</th>\n",
       "      <th>numorderlines</th>\n",
       "      <th>numunits</th>\n",
       "    </tr>\n",
       "  </thead>\n",
       "  <tbody>\n",
       "    <tr>\n",
       "      <th>0</th>\n",
       "      <td>1002854</td>\n",
       "      <td>45978</td>\n",
       "      <td>2141</td>\n",
       "      <td>2009-10-13</td>\n",
       "      <td>NEWTON</td>\n",
       "      <td>MA</td>\n",
       "      <td>02459</td>\n",
       "      <td>VI</td>\n",
       "      <td>190.00</td>\n",
       "      <td>3</td>\n",
       "      <td>3</td>\n",
       "    </tr>\n",
       "    <tr>\n",
       "      <th>1</th>\n",
       "      <td>1002855</td>\n",
       "      <td>125381</td>\n",
       "      <td>2173</td>\n",
       "      <td>2009-10-13</td>\n",
       "      <td>NEW ROCHELLE</td>\n",
       "      <td>NY</td>\n",
       "      <td>10804</td>\n",
       "      <td>VI</td>\n",
       "      <td>10.00</td>\n",
       "      <td>1</td>\n",
       "      <td>1</td>\n",
       "    </tr>\n",
       "    <tr>\n",
       "      <th>2</th>\n",
       "      <td>1002856</td>\n",
       "      <td>103122</td>\n",
       "      <td>2141</td>\n",
       "      <td>2011-06-02</td>\n",
       "      <td>MIAMI</td>\n",
       "      <td>FL</td>\n",
       "      <td>33137</td>\n",
       "      <td>AE</td>\n",
       "      <td>35.22</td>\n",
       "      <td>2</td>\n",
       "      <td>2</td>\n",
       "    </tr>\n",
       "    <tr>\n",
       "      <th>3</th>\n",
       "      <td>1002857</td>\n",
       "      <td>130980</td>\n",
       "      <td>2173</td>\n",
       "      <td>2009-10-14</td>\n",
       "      <td>E RUTHERFORD</td>\n",
       "      <td>NJ</td>\n",
       "      <td>07073</td>\n",
       "      <td>AE</td>\n",
       "      <td>10.00</td>\n",
       "      <td>1</td>\n",
       "      <td>1</td>\n",
       "    </tr>\n",
       "    <tr>\n",
       "      <th>4</th>\n",
       "      <td>1002886</td>\n",
       "      <td>48553</td>\n",
       "      <td>2141</td>\n",
       "      <td>2010-11-19</td>\n",
       "      <td>BALTIMORE</td>\n",
       "      <td>MD</td>\n",
       "      <td>21218</td>\n",
       "      <td>VI</td>\n",
       "      <td>10.00</td>\n",
       "      <td>1</td>\n",
       "      <td>1</td>\n",
       "    </tr>\n",
       "  </tbody>\n",
       "</table>\n",
       "</div>"
      ],
      "text/plain": [
       "   orderid  customerid  campaignid  orderdate          city state zipcode  \\\n",
       "0  1002854       45978        2141 2009-10-13        NEWTON    MA   02459   \n",
       "1  1002855      125381        2173 2009-10-13  NEW ROCHELLE    NY   10804   \n",
       "2  1002856      103122        2141 2011-06-02         MIAMI    FL   33137   \n",
       "3  1002857      130980        2173 2009-10-14  E RUTHERFORD    NJ   07073   \n",
       "4  1002886       48553        2141 2010-11-19     BALTIMORE    MD   21218   \n",
       "\n",
       "  paymenttype  totalprice  numorderlines  numunits  \n",
       "0          VI      190.00              3         3  \n",
       "1          VI       10.00              1         1  \n",
       "2          AE       35.22              2         2  \n",
       "3          AE       10.00              1         1  \n",
       "4          VI       10.00              1         1  "
      ]
     },
     "execution_count": 18,
     "metadata": {},
     "output_type": "execute_result"
    }
   ],
   "source": [
    "df1.head()"
   ]
  },
  {
   "cell_type": "code",
   "execution_count": 36,
   "id": "bd39c2b6",
   "metadata": {
    "ExecuteTime": {
     "end_time": "2022-01-02T00:28:24.000954Z",
     "start_time": "2022-01-02T00:28:23.930875Z"
    }
   },
   "outputs": [],
   "source": [
    "df = df1.merge(df2[['customerid','householdid']],on='customerid')"
   ]
  },
  {
   "cell_type": "code",
   "execution_count": 37,
   "id": "a3d5b88e",
   "metadata": {
    "ExecuteTime": {
     "end_time": "2022-01-02T00:28:26.014631Z",
     "start_time": "2022-01-02T00:28:25.994684Z"
    }
   },
   "outputs": [
    {
     "data": {
      "text/html": [
       "<div>\n",
       "<style scoped>\n",
       "    .dataframe tbody tr th:only-of-type {\n",
       "        vertical-align: middle;\n",
       "    }\n",
       "\n",
       "    .dataframe tbody tr th {\n",
       "        vertical-align: top;\n",
       "    }\n",
       "\n",
       "    .dataframe thead th {\n",
       "        text-align: right;\n",
       "    }\n",
       "</style>\n",
       "<table border=\"1\" class=\"dataframe\">\n",
       "  <thead>\n",
       "    <tr style=\"text-align: right;\">\n",
       "      <th></th>\n",
       "      <th>orderid</th>\n",
       "      <th>customerid</th>\n",
       "      <th>campaignid</th>\n",
       "      <th>orderdate</th>\n",
       "      <th>city</th>\n",
       "      <th>state</th>\n",
       "      <th>zipcode</th>\n",
       "      <th>paymenttype</th>\n",
       "      <th>totalprice</th>\n",
       "      <th>numorderlines</th>\n",
       "      <th>numunits</th>\n",
       "      <th>householdid</th>\n",
       "    </tr>\n",
       "  </thead>\n",
       "  <tbody>\n",
       "    <tr>\n",
       "      <th>0</th>\n",
       "      <td>1002854</td>\n",
       "      <td>45978</td>\n",
       "      <td>2141</td>\n",
       "      <td>2009-10-13</td>\n",
       "      <td>NEWTON</td>\n",
       "      <td>MA</td>\n",
       "      <td>02459</td>\n",
       "      <td>VI</td>\n",
       "      <td>190.00</td>\n",
       "      <td>3</td>\n",
       "      <td>3</td>\n",
       "      <td>18991234</td>\n",
       "    </tr>\n",
       "    <tr>\n",
       "      <th>1</th>\n",
       "      <td>1002855</td>\n",
       "      <td>125381</td>\n",
       "      <td>2173</td>\n",
       "      <td>2009-10-13</td>\n",
       "      <td>NEW ROCHELLE</td>\n",
       "      <td>NY</td>\n",
       "      <td>10804</td>\n",
       "      <td>VI</td>\n",
       "      <td>10.00</td>\n",
       "      <td>1</td>\n",
       "      <td>1</td>\n",
       "      <td>36173848</td>\n",
       "    </tr>\n",
       "    <tr>\n",
       "      <th>2</th>\n",
       "      <td>1002856</td>\n",
       "      <td>103122</td>\n",
       "      <td>2141</td>\n",
       "      <td>2011-06-02</td>\n",
       "      <td>MIAMI</td>\n",
       "      <td>FL</td>\n",
       "      <td>33137</td>\n",
       "      <td>AE</td>\n",
       "      <td>35.22</td>\n",
       "      <td>2</td>\n",
       "      <td>2</td>\n",
       "      <td>36204911</td>\n",
       "    </tr>\n",
       "    <tr>\n",
       "      <th>3</th>\n",
       "      <td>1002857</td>\n",
       "      <td>130980</td>\n",
       "      <td>2173</td>\n",
       "      <td>2009-10-14</td>\n",
       "      <td>E RUTHERFORD</td>\n",
       "      <td>NJ</td>\n",
       "      <td>07073</td>\n",
       "      <td>AE</td>\n",
       "      <td>10.00</td>\n",
       "      <td>1</td>\n",
       "      <td>1</td>\n",
       "      <td>36173923</td>\n",
       "    </tr>\n",
       "    <tr>\n",
       "      <th>4</th>\n",
       "      <td>1002886</td>\n",
       "      <td>48553</td>\n",
       "      <td>2141</td>\n",
       "      <td>2010-11-19</td>\n",
       "      <td>BALTIMORE</td>\n",
       "      <td>MD</td>\n",
       "      <td>21218</td>\n",
       "      <td>VI</td>\n",
       "      <td>10.00</td>\n",
       "      <td>1</td>\n",
       "      <td>1</td>\n",
       "      <td>19227025</td>\n",
       "    </tr>\n",
       "    <tr>\n",
       "      <th>...</th>\n",
       "      <td>...</td>\n",
       "      <td>...</td>\n",
       "      <td>...</td>\n",
       "      <td>...</td>\n",
       "      <td>...</td>\n",
       "      <td>...</td>\n",
       "      <td>...</td>\n",
       "      <td>...</td>\n",
       "      <td>...</td>\n",
       "      <td>...</td>\n",
       "      <td>...</td>\n",
       "      <td>...</td>\n",
       "    </tr>\n",
       "    <tr>\n",
       "      <th>189554</th>\n",
       "      <td>1643147</td>\n",
       "      <td>188940</td>\n",
       "      <td>2170</td>\n",
       "      <td>2016-09-18</td>\n",
       "      <td>BROOKLYN</td>\n",
       "      <td>NY</td>\n",
       "      <td>11209</td>\n",
       "      <td>MC</td>\n",
       "      <td>23.96</td>\n",
       "      <td>1</td>\n",
       "      <td>1</td>\n",
       "      <td>72589473</td>\n",
       "    </tr>\n",
       "    <tr>\n",
       "      <th>189555</th>\n",
       "      <td>1643148</td>\n",
       "      <td>189550</td>\n",
       "      <td>2141</td>\n",
       "      <td>2016-09-18</td>\n",
       "      <td>NYC</td>\n",
       "      <td>NY</td>\n",
       "      <td>11385</td>\n",
       "      <td>MC</td>\n",
       "      <td>20.65</td>\n",
       "      <td>1</td>\n",
       "      <td>1</td>\n",
       "      <td>72590477</td>\n",
       "    </tr>\n",
       "    <tr>\n",
       "      <th>189556</th>\n",
       "      <td>1643149</td>\n",
       "      <td>188938</td>\n",
       "      <td>2236</td>\n",
       "      <td>2016-09-18</td>\n",
       "      <td>HOUSTON</td>\n",
       "      <td>TX</td>\n",
       "      <td>77070</td>\n",
       "      <td>VI</td>\n",
       "      <td>16.95</td>\n",
       "      <td>1</td>\n",
       "      <td>1</td>\n",
       "      <td>30080748</td>\n",
       "    </tr>\n",
       "    <tr>\n",
       "      <th>189557</th>\n",
       "      <td>1643150</td>\n",
       "      <td>189517</td>\n",
       "      <td>2236</td>\n",
       "      <td>2016-09-18</td>\n",
       "      <td>PITTSBURGH</td>\n",
       "      <td>PA</td>\n",
       "      <td>15234</td>\n",
       "      <td>MC</td>\n",
       "      <td>22.95</td>\n",
       "      <td>1</td>\n",
       "      <td>1</td>\n",
       "      <td>72590478</td>\n",
       "    </tr>\n",
       "    <tr>\n",
       "      <th>189558</th>\n",
       "      <td>1643157</td>\n",
       "      <td>167434</td>\n",
       "      <td>2141</td>\n",
       "      <td>2016-09-20</td>\n",
       "      <td>NEW YORK</td>\n",
       "      <td>NY</td>\n",
       "      <td>10027</td>\n",
       "      <td>MC</td>\n",
       "      <td>49.45</td>\n",
       "      <td>1</td>\n",
       "      <td>1</td>\n",
       "      <td>22912423</td>\n",
       "    </tr>\n",
       "  </tbody>\n",
       "</table>\n",
       "<p>189559 rows × 12 columns</p>\n",
       "</div>"
      ],
      "text/plain": [
       "        orderid  customerid  campaignid  orderdate          city state  \\\n",
       "0       1002854       45978        2141 2009-10-13        NEWTON    MA   \n",
       "1       1002855      125381        2173 2009-10-13  NEW ROCHELLE    NY   \n",
       "2       1002856      103122        2141 2011-06-02         MIAMI    FL   \n",
       "3       1002857      130980        2173 2009-10-14  E RUTHERFORD    NJ   \n",
       "4       1002886       48553        2141 2010-11-19     BALTIMORE    MD   \n",
       "...         ...         ...         ...        ...           ...   ...   \n",
       "189554  1643147      188940        2170 2016-09-18      BROOKLYN    NY   \n",
       "189555  1643148      189550        2141 2016-09-18           NYC    NY   \n",
       "189556  1643149      188938        2236 2016-09-18       HOUSTON    TX   \n",
       "189557  1643150      189517        2236 2016-09-18    PITTSBURGH    PA   \n",
       "189558  1643157      167434        2141 2016-09-20      NEW YORK    NY   \n",
       "\n",
       "       zipcode paymenttype  totalprice  numorderlines  numunits  householdid  \n",
       "0        02459          VI      190.00              3         3     18991234  \n",
       "1        10804          VI       10.00              1         1     36173848  \n",
       "2        33137          AE       35.22              2         2     36204911  \n",
       "3        07073          AE       10.00              1         1     36173923  \n",
       "4        21218          VI       10.00              1         1     19227025  \n",
       "...        ...         ...         ...            ...       ...          ...  \n",
       "189554   11209          MC       23.96              1         1     72589473  \n",
       "189555   11385          MC       20.65              1         1     72590477  \n",
       "189556   77070          VI       16.95              1         1     30080748  \n",
       "189557   15234          MC       22.95              1         1     72590478  \n",
       "189558   10027          MC       49.45              1         1     22912423  \n",
       "\n",
       "[189559 rows x 12 columns]"
      ]
     },
     "execution_count": 37,
     "metadata": {},
     "output_type": "execute_result"
    }
   ],
   "source": [
    "df"
   ]
  },
  {
   "cell_type": "code",
   "execution_count": 44,
   "id": "c5950491",
   "metadata": {
    "ExecuteTime": {
     "end_time": "2022-01-02T01:58:08.064647Z",
     "start_time": "2022-01-02T01:58:07.994863Z"
    }
   },
   "outputs": [],
   "source": [
    "df_f = df.groupby('householdid')['orderdate'].max().reset_index()"
   ]
  },
  {
   "cell_type": "code",
   "execution_count": 49,
   "id": "3083dd5e",
   "metadata": {
    "ExecuteTime": {
     "end_time": "2022-01-02T01:59:25.594958Z",
     "start_time": "2022-01-02T01:59:25.570932Z"
    }
   },
   "outputs": [],
   "source": [
    "df_f.columns = [['householdid','latest_purchase_date']]"
   ]
  },
  {
   "cell_type": "code",
   "execution_count": 82,
   "id": "8b7af87a",
   "metadata": {
    "ExecuteTime": {
     "end_time": "2022-01-02T02:14:36.254711Z",
     "start_time": "2022-01-02T02:14:36.234729Z"
    }
   },
   "outputs": [],
   "source": [
    "df_f['recency'] = df_f['latest_purchase_date'].max()-df_f['latest_purchase_date']"
   ]
  },
  {
   "cell_type": "code",
   "execution_count": 91,
   "id": "b5526e03",
   "metadata": {
    "ExecuteTime": {
     "end_time": "2022-01-02T02:18:06.052910Z",
     "start_time": "2022-01-02T02:18:06.041909Z"
    }
   },
   "outputs": [],
   "source": [
    "df_f['recency'] = df_f['recency'].apply(lambda x:x.dt.days)\n"
   ]
  },
  {
   "cell_type": "code",
   "execution_count": 94,
   "id": "9190e6cd",
   "metadata": {
    "ExecuteTime": {
     "end_time": "2022-01-02T02:27:46.858430Z",
     "start_time": "2022-01-02T02:27:46.855439Z"
    }
   },
   "outputs": [],
   "source": [
    "##prediction dataset(30%) :2016-06,07,08\n",
    "##training dataset(70%):  x = 2016-04,05,06 y = 2016-08\n"
   ]
  },
  {
   "cell_type": "code",
   "execution_count": 104,
   "id": "a22cf748",
   "metadata": {
    "ExecuteTime": {
     "end_time": "2022-01-02T02:40:22.694879Z",
     "start_time": "2022-01-02T02:40:22.676903Z"
    }
   },
   "outputs": [],
   "source": [
    "import datetime as dt"
   ]
  },
  {
   "cell_type": "code",
   "execution_count": 133,
   "id": "6f3fed5f",
   "metadata": {
    "ExecuteTime": {
     "end_time": "2022-01-02T03:07:52.909943Z",
     "start_time": "2022-01-02T03:07:52.892988Z"
    }
   },
   "outputs": [],
   "source": [
    "dt_prediction = dt.date(2016,10,1)\n",
    "dt_aug = dt.date(2016,8,1)\n",
    "month_intervel = 1\n",
    "month_offset = 3\n"
   ]
  },
  {
   "cell_type": "code",
   "execution_count": 128,
   "id": "b5e58936",
   "metadata": {
    "ExecuteTime": {
     "end_time": "2022-01-02T03:03:37.841240Z",
     "start_time": "2022-01-02T03:03:37.734521Z"
    }
   },
   "outputs": [],
   "source": [
    "ds_pred = df_f[(dt_prediction.year*12+dt_prediction.month - \n",
    "               df_f['latest_purchase_date'].apply(lambda x: x.dt.year*12+x.dt.month) > month_intervel)&\n",
    "              (dt_prediction.year*12+dt_prediction.month - \n",
    "               df_f['latest_purchase_date'].apply(lambda x: x.dt.year*12+x.dt.month) <= month_intervel+month_offset)]"
   ]
  },
  {
   "cell_type": "code",
   "execution_count": 129,
   "id": "5203ce8a",
   "metadata": {
    "ExecuteTime": {
     "end_time": "2022-01-02T03:03:38.931759Z",
     "start_time": "2022-01-02T03:03:38.909057Z"
    }
   },
   "outputs": [
    {
     "name": "stdout",
     "output_type": "stream",
     "text": [
      "householdid                             NaN\n",
      "latest_purchase_date    2016-08-31 00:00:00\n",
      "recency                                 NaN\n",
      "dtype: object householdid                             NaN\n",
      "latest_purchase_date    2016-06-01 00:00:00\n",
      "recency                                 NaN\n",
      "dtype: object\n"
     ]
    }
   ],
   "source": [
    "print(ds_pred.max(),ds_pred.min())"
   ]
  },
  {
   "cell_type": "code",
   "execution_count": 138,
   "id": "372c8cee",
   "metadata": {
    "ExecuteTime": {
     "end_time": "2022-01-02T03:15:22.341129Z",
     "start_time": "2022-01-02T03:15:22.154630Z"
    }
   },
   "outputs": [
    {
     "name": "stdout",
     "output_type": "stream",
     "text": [
      "householdid                             NaN\n",
      "latest_purchase_date    2016-06-30 00:00:00\n",
      "recency                                 NaN\n",
      "dtype: object householdid                             NaN\n",
      "latest_purchase_date    2016-04-01 00:00:00\n",
      "recency                                 NaN\n",
      "dtype: object\n",
      "householdid                             NaN\n",
      "latest_purchase_date    2016-08-31 00:00:00\n",
      "recency                                 NaN\n",
      "dtype: object householdid                             NaN\n",
      "latest_purchase_date    2016-08-01 00:00:00\n",
      "recency                                 NaN\n",
      "dtype: object\n"
     ]
    }
   ],
   "source": [
    "#train model\n",
    "ds_aug = df_f[(dt_aug.year*12+dt_aug.month - \n",
    "               df_f['latest_purchase_date'].apply(lambda x: x.dt.year*12+x.dt.month) > month_intervel)&\n",
    "              (dt_aug.year*12+dt_aug.month - \n",
    "               df_f['latest_purchase_date'].apply(lambda x: x.dt.year*12+x.dt.month) <= month_intervel+month_offset)]\n",
    "ds_aug_output = df_f[(df_f['latest_purchase_date'].apply(lambda x: x.dt.year)==dt_aug.year)&\n",
    "                    (df_f['latest_purchase_date'].apply(lambda x: x.dt.month)==dt_aug.month)]\n",
    "print(ds_aug.max(),ds_aug.min())\n",
    "print(ds_aug_output.max(),ds_aug_output.min())"
   ]
  },
  {
   "cell_type": "code",
   "execution_count": null,
   "id": "cc195209",
   "metadata": {},
   "outputs": [],
   "source": []
  }
 ],
 "metadata": {
  "kernelspec": {
   "display_name": "Python 3 (ipykernel)",
   "language": "python",
   "name": "python3"
  },
  "language_info": {
   "codemirror_mode": {
    "name": "ipython",
    "version": 3
   },
   "file_extension": ".py",
   "mimetype": "text/x-python",
   "name": "python",
   "nbconvert_exporter": "python",
   "pygments_lexer": "ipython3",
   "version": "3.9.4"
  }
 },
 "nbformat": 4,
 "nbformat_minor": 5
}
